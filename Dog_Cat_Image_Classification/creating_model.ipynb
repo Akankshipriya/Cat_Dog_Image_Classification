{
  "nbformat": 4,
  "nbformat_minor": 0,
  "metadata": {
    "colab": {
      "name": "creating_model.ipynb",
      "provenance": [],
      "collapsed_sections": []
    },
    "kernelspec": {
      "name": "python3",
      "display_name": "Python 3"
    },
    "accelerator": "GPU"
  },
  "cells": [
    {
      "cell_type": "code",
      "metadata": {
        "id": "VGbmv7y_Zkcd",
        "colab_type": "code",
        "colab": {}
      },
      "source": [
        "from tensorflow.keras.models import Sequential\n",
        "from tensorflow.keras.layers import Dense, Dropout, Activation, Flatten\n",
        "from tensorflow.keras.layers import Conv2D, MaxPooling2D\n",
        "from tensorflow.keras.callbacks import TensorBoard\n",
        "import numpy as np\n",
        "import pickle\n",
        "import time"
      ],
      "execution_count": 0,
      "outputs": []
    },
    {
      "cell_type": "code",
      "metadata": {
        "id": "X5r0cp2cZoCQ",
        "colab_type": "code",
        "colab": {}
      },
      "source": [
        "pickle_in = open(\"/content/drive/My Drive/Colab Notebooks/X.pickle\",\"rb\")#path of X.pickle file from drive\n",
        "X = pickle.load(pickle_in)\n",
        "\n",
        "pickle_in = open(\"/content/drive/My Drive/Colab Notebooks/y.pickle\",\"rb\")#path for y.pickle file from drive\n",
        "y = pickle.load(pickle_in)"
      ],
      "execution_count": 0,
      "outputs": []
    },
    {
      "cell_type": "code",
      "metadata": {
        "id": "CggiigGVZsWr",
        "colab_type": "code",
        "colab": {}
      },
      "source": [
        "X=np.array(X/255.0)\n",
        "y=np.array(y)"
      ],
      "execution_count": 0,
      "outputs": []
    },
    {
      "cell_type": "code",
      "metadata": {
        "id": "CfYjUCXKZwDk",
        "colab_type": "code",
        "colab": {}
      },
      "source": [
        "dense_lyr = 0\n",
        "lyr_size = 64\n",
        "conv_lyr = 3"
      ],
      "execution_count": 0,
      "outputs": []
    },
    {
      "cell_type": "code",
      "metadata": {
        "id": "0ij7rCUKXn45",
        "colab_type": "code",
        "outputId": "e49539b9-8665-45bc-f4d0-2a99cdd791ba",
        "colab": {
          "base_uri": "https://localhost:8080/",
          "height": 391
        }
      },
      "source": [
        "NAME = \"{}-conv-{}-nodes-{}-dense-{}\".format(conv_lyr, lyr_size, dense_lyr, int(time.time()))\n",
        "print(NAME)\n",
        "\n",
        "model = Sequential()\n",
        "\n",
        "model.add(Conv2D(lyr_size, (3, 3), input_shape=X.shape[1:]))\n",
        "model.add(Activation('relu'))\n",
        "model.add(MaxPooling2D(pool_size=(2, 2)))\n",
        "\n",
        "for l in range(conv_lyr-1):\n",
        "    model.add(Conv2D(lyr_size, (3, 3)))\n",
        "    model.add(Activation('relu'))\n",
        "    model.add(MaxPooling2D(pool_size=(2, 2)))\n",
        "\n",
        "model.add(Flatten())\n",
        "\n",
        "for _ in range(dense_lyr):\n",
        "    model.add(Dense(lyr_size))\n",
        "    model.add(Activation('relu'))\n",
        "\n",
        "model.add(Dense(1))\n",
        "model.add(Activation('sigmoid'))\n",
        "\n",
        "tensorboard = TensorBoard(log_dir=\"logs/{}\".format(NAME))\n",
        "\n",
        "model.compile(loss='binary_crossentropy',optimizer='adam',metrics=['accuracy'],)\n",
        "model.fit(X, y,batch_size=16,epochs=10,callbacks=[tensorboard])\n"
      ],
      "execution_count": 16,
      "outputs": [
        {
          "output_type": "stream",
          "text": [
            "3-conv-64-nodes-0-dense-1586690969\n",
            "Epoch 1/10\n",
            "1560/1560 [==============================] - 12s 7ms/step - loss: 0.6171 - accuracy: 0.6459\n",
            "Epoch 2/10\n",
            "1560/1560 [==============================] - 12s 7ms/step - loss: 0.4805 - accuracy: 0.7685\n",
            "Epoch 3/10\n",
            "1560/1560 [==============================] - 11s 7ms/step - loss: 0.4101 - accuracy: 0.8132\n",
            "Epoch 4/10\n",
            "1560/1560 [==============================] - 11s 7ms/step - loss: 0.3592 - accuracy: 0.8381\n",
            "Epoch 5/10\n",
            "1560/1560 [==============================] - 11s 7ms/step - loss: 0.3217 - accuracy: 0.8588\n",
            "Epoch 6/10\n",
            "1560/1560 [==============================] - 12s 7ms/step - loss: 0.2906 - accuracy: 0.8758\n",
            "Epoch 7/10\n",
            "1560/1560 [==============================] - 12s 7ms/step - loss: 0.2662 - accuracy: 0.8856\n",
            "Epoch 8/10\n",
            "1560/1560 [==============================] - 12s 8ms/step - loss: 0.2403 - accuracy: 0.8986\n",
            "Epoch 9/10\n",
            "1560/1560 [==============================] - 11s 7ms/step - loss: 0.2107 - accuracy: 0.9121\n",
            "Epoch 10/10\n",
            "1560/1560 [==============================] - 12s 8ms/step - loss: 0.1879 - accuracy: 0.9225\n"
          ],
          "name": "stdout"
        },
        {
          "output_type": "execute_result",
          "data": {
            "text/plain": [
              "<tensorflow.python.keras.callbacks.History at 0x7fc464261668>"
            ]
          },
          "metadata": {
            "tags": []
          },
          "execution_count": 16
        }
      ]
    },
    {
      "cell_type": "code",
      "metadata": {
        "id": "2hPWJTASZ103",
        "colab_type": "code",
        "colab": {}
      },
      "source": [
        "model.save('/dog_cat-CNN.h5')#path for saving model dog_cat-CNN.h5"
      ],
      "execution_count": 0,
      "outputs": []
    },
    {
      "cell_type": "code",
      "metadata": {
        "id": "27wGkRzaGihr",
        "colab_type": "code",
        "colab": {}
      },
      "source": [
        ""
      ],
      "execution_count": 0,
      "outputs": []
    }
  ]
}